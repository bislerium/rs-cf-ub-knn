{
 "cells": [
  {
   "cell_type": "markdown",
   "id": "2354b181",
   "metadata": {},
   "source": [
    "# Anime Recommendation System\n",
    "- User-based Collaborative Filtering Technique\n",
    "- KNN Algorithm using Euclidean distance metric "
   ]
  },
  {
   "cell_type": "markdown",
   "id": "e39eb4ca",
   "metadata": {},
   "source": [
    "## Import Modules & Libraries"
   ]
  },
  {
   "cell_type": "code",
   "execution_count": null,
   "id": "99c29730",
   "metadata": {},
   "outputs": [],
   "source": [
    "import json # Well-formatted Dictionary\n",
    "import opendatasets as od # Datasets Download from Kaggle\n",
    "import pandas as pd # Data processing: CSV file I/O\n",
    "import random # Random Generation of Test User-Rating Data Dictionary\n",
    "import scipy as sc # Sparse matrix\n",
    "from sklearn.neighbors import NearestNeighbors # Neighbors-based classification and Searches\n",
    "import statistics # Mean Calculations\n",
    "import sweetviz as sv # Exploratory Data Analysis"
   ]
  },
  {
   "cell_type": "markdown",
   "id": "2b9e3e6e",
   "metadata": {},
   "source": [
    "## Download Datasets"
   ]
  },
  {
   "cell_type": "code",
   "execution_count": null,
   "id": "b0b1d926",
   "metadata": {},
   "outputs": [],
   "source": [
    "url = 'https://www.kaggle.com/CooperUnion/anime-recommendations-database'\n",
    "od.download(url)"
   ]
  },
  {
   "cell_type": "markdown",
   "id": "5de403d1",
   "metadata": {},
   "source": [
    "## Load Datasets as DataFrames\n",
    "Datasets link: https://www.kaggle.com/CooperUnion/anime-recommendations-database\n",
    "\n",
    "| file | size | rows | columns |\n",
    "| --- | --- | --- | --- |\n",
    "| anime.csv | 914kb | 12294 | 7 |\n",
    "| rating.csv | 106MB | 7813737 | 3 | \n",
    "\n",
    "This data set contains information on user preference data from 73,516 users on 12,294 anime."
   ]
  },
  {
   "cell_type": "code",
   "execution_count": null,
   "id": "8de3d05a",
   "metadata": {},
   "outputs": [],
   "source": [
    "DIR = 'anime-recommendations-database/'\n",
    "animes = pd.read_csv(DIR + \"anime.csv\", dtype= { 'anime_id': int, 'members': int}, encoding='utf-8-sig')\n",
    "ratings = pd.read_csv(DIR + \"rating.csv\", dtype = int)"
   ]
  },
  {
   "cell_type": "markdown",
   "id": "0d9b3983",
   "metadata": {},
   "source": [
    "## Explore and Analyse Data"
   ]
  },
  {
   "cell_type": "code",
   "execution_count": null,
   "id": "3412ea5f",
   "metadata": {},
   "outputs": [],
   "source": [
    "animes.head() # Read first 5 row of anime DataFrame (DF)"
   ]
  },
  {
   "cell_type": "code",
   "execution_count": null,
   "id": "e9049c6c",
   "metadata": {},
   "outputs": [],
   "source": [
    "ratings.head() # Read first 5 row of rating DataFrame"
   ]
  },
  {
   "cell_type": "code",
   "execution_count": null,
   "id": "bd5a5db8",
   "metadata": {},
   "outputs": [],
   "source": [
    "animes.info() # Detail information of anime DF"
   ]
  },
  {
   "cell_type": "code",
   "execution_count": null,
   "id": "8f877d37",
   "metadata": {},
   "outputs": [],
   "source": [
    "ratings.info() # Detail information of rating DF with missing values"
   ]
  },
  {
   "cell_type": "code",
   "execution_count": null,
   "id": "3c8c850c",
   "metadata": {},
   "outputs": [],
   "source": [
    "animes.isnull().sum() # Find Columns of anime DF with any missing values"
   ]
  },
  {
   "cell_type": "code",
   "execution_count": null,
   "id": "08694071",
   "metadata": {},
   "outputs": [],
   "source": [
    "ratings.isnull().sum() # Find Columns of ratings DF with any missing values"
   ]
  },
  {
   "cell_type": "code",
   "execution_count": null,
   "id": "b78bd6d6",
   "metadata": {},
   "outputs": [],
   "source": [
    "len(ratings['user_id'].unique()) # number of users"
   ]
  },
  {
   "cell_type": "code",
   "execution_count": null,
   "id": "9814cf0d",
   "metadata": {},
   "outputs": [],
   "source": [
    "len(animes['anime_id'].unique()) # number of unique animes in anime DF"
   ]
  },
  {
   "cell_type": "code",
   "execution_count": null,
   "id": "ff5f1054",
   "metadata": {},
   "outputs": [],
   "source": [
    "episodes = pd.to_numeric(animes['episodes'], errors='coerce').fillna(0) # average number of episodes in anime\n",
    "statistics.mean(episodes.tolist())"
   ]
  },
  {
   "cell_type": "code",
   "execution_count": null,
   "id": "6646c889",
   "metadata": {},
   "outputs": [],
   "source": [
    "anime_watched_per_user = ratings.groupby('user_id')['rating'].count() # average number of anime rated per user\n",
    "statistics.mean(anime_watched_per_user.tolist())"
   ]
  },
  {
   "cell_type": "code",
   "execution_count": null,
   "id": "92386c3f",
   "metadata": {},
   "outputs": [],
   "source": [
    "anime_watched_per_user.hist(bins=50, range=(-100,500), figsize=(8,5)) # Histogram on distribution of anime-watch per user"
   ]
  },
  {
   "cell_type": "code",
   "execution_count": null,
   "id": "61a8880c",
   "metadata": {},
   "outputs": [],
   "source": [
    "ratings_per_anime = ratings.groupby('anime_id')['rating'].count()\n",
    "statistics.mean(ratings_per_anime.tolist()) #average rating per anime"
   ]
  },
  {
   "cell_type": "code",
   "execution_count": null,
   "id": "4cde3395",
   "metadata": {},
   "outputs": [],
   "source": [
    "ratings_per_anime.hist(bins=50, range=(-100,500), figsize=(8,5)) # Histogram on distribution of rating per anime"
   ]
  },
  {
   "cell_type": "code",
   "execution_count": null,
   "id": "47fc0f43",
   "metadata": {},
   "outputs": [],
   "source": [
    "ratings.rating.value_counts(sort=True).plot(kind='barh', xlabel = 'Anime Rating', figsize=(8,5)) # rating(1-10) count"
   ]
  },
  {
   "cell_type": "code",
   "execution_count": null,
   "id": "2152c5c4",
   "metadata": {},
   "outputs": [],
   "source": [
    "animes.type.value_counts(sort=True).plot(kind='pie', xlabel = 'Type of Anime', table=True, figsize=(6,6)) # Type Count"
   ]
  },
  {
   "cell_type": "code",
   "execution_count": null,
   "id": "cbe2ce80",
   "metadata": {},
   "outputs": [],
   "source": [
    "num_anime_per_genre = {}\n",
    "for genre_chunk in animes['genre']:\n",
    "    granular_genre = [x.strip() for x in str(genre_chunk).split(',')]\n",
    "    for genre in granular_genre:\n",
    "        if (genre in num_anime_per_genre.keys()):\n",
    "            num_anime_per_genre[genre] += 1\n",
    "        else:\n",
    "            num_anime_per_genre[genre] = 0"
   ]
  },
  {
   "cell_type": "code",
   "execution_count": null,
   "id": "55350ba7",
   "metadata": {},
   "outputs": [],
   "source": [
    "pd.DataFrame(num_anime_per_genre.items(), columns=['Genre', 'Number of Anime']).sort_values(by='Number of Anime', ascending=False).plot(kind='barh', x='Genre', y='Number of Anime', figsize=(10,10)) # Anime per Genre"
   ]
  },
  {
   "cell_type": "code",
   "execution_count": null,
   "id": "478cb1e7",
   "metadata": {},
   "outputs": [],
   "source": [
    "animes.sort_values(by='rating', ascending=False)[0:30].plot(kind='barh', x='name', y='rating', logx=True, figsize=(10,10)) # Top 30 highest-rated Anime"
   ]
  },
  {
   "cell_type": "code",
   "execution_count": null,
   "id": "d2938b1e",
   "metadata": {
    "scrolled": true
   },
   "outputs": [],
   "source": [
    "anime_report = sv.analyze([animes, 'Anime']) # Easy geration of exploratory data analysis report using sweetviz library\n",
    "anime_report.show_html('anime_report.html', layout='vertical', scale=1.0)"
   ]
  },
  {
   "cell_type": "code",
   "execution_count": null,
   "id": "8c54e16f",
   "metadata": {},
   "outputs": [],
   "source": [
    "rating_report = sv.analyze([ratings, 'Anime Rating']) \n",
    "rating_report.show_html('rating_report.html', layout='vertical', scale=1.0)"
   ]
  },
  {
   "cell_type": "code",
   "execution_count": null,
   "id": "9867a27b",
   "metadata": {},
   "outputs": [],
   "source": [
    "anime_rating_comparison = sv.compare([animes, 'Anime'],[ratings, 'Anime Rating'], \"anime_id\")\n",
    "anime_rating_comparison.show_html('rating_report.html', layout='vertical', scale=1.0)"
   ]
  },
  {
   "cell_type": "markdown",
   "id": "25f85102",
   "metadata": {},
   "source": [
    "## Pre-process Data\n",
    "*rating*(DF) => *rating*(feature) value(1-10): **-1** means the user did not rated even after watching it (anime) and can be considered invaluable/invalid."
   ]
  },
  {
   "cell_type": "code",
   "execution_count": null,
   "id": "155203ef",
   "metadata": {},
   "outputs": [],
   "source": [
    "animes.dropna(inplace=True, subset=['genre']) # Dropping nulls if they exist"
   ]
  },
  {
   "cell_type": "code",
   "execution_count": null,
   "id": "0a358245",
   "metadata": {},
   "outputs": [],
   "source": [
    "ratings = ratings[ratings.rating != -1] # Removing user_ratings with rating value -1"
   ]
  },
  {
   "cell_type": "code",
   "execution_count": null,
   "id": "96aba463",
   "metadata": {},
   "outputs": [],
   "source": [
    "ratings = ratings[ratings.anime_id.isin(animes['anime_id'])] # Removing ratings unrelated to any anime in anime DF"
   ]
  },
  {
   "cell_type": "code",
   "execution_count": null,
   "id": "80751140",
   "metadata": {},
   "outputs": [],
   "source": [
    "ratings.head() # Cleaned rating DF at a glance"
   ]
  },
  {
   "cell_type": "code",
   "execution_count": null,
   "id": "642f4160",
   "metadata": {},
   "outputs": [],
   "source": [
    "ratings.info() # An Updated Info"
   ]
  },
  {
   "cell_type": "code",
   "execution_count": null,
   "id": "f03285df",
   "metadata": {},
   "outputs": [],
   "source": [
    "animes.info()"
   ]
  },
  {
   "cell_type": "markdown",
   "id": "b55a1d45",
   "metadata": {},
   "source": [
    "## Merge Data: (Anime + Rating) DFs\n",
    "As per the common feature (anime_id), Two Dataframes are merged accordingly."
   ]
  },
  {
   "cell_type": "code",
   "execution_count": null,
   "id": "9471a89c",
   "metadata": {},
   "outputs": [],
   "source": [
    "animes_ = animes[['anime_id', 'name']] # Omiting unnecessary columns from DataFrame\n",
    "anime_rating_merge = pd.merge(animes_, ratings, on='anime_id') # Table Merge"
   ]
  },
  {
   "cell_type": "code",
   "execution_count": null,
   "id": "4b744874",
   "metadata": {},
   "outputs": [],
   "source": [
    "anime_rating_merge"
   ]
  },
  {
   "cell_type": "markdown",
   "id": "aee9a81c",
   "metadata": {},
   "source": [
    "## Pivot and Reshape the Merged DF\n",
    "Reshaping/Pivoting a table generates numerous NaN (Not a Number) values. It must be cleaned to avoid exceptions on further processing. Hence the NaN values is replaced by 0."
   ]
  },
  {
   "cell_type": "code",
   "execution_count": null,
   "id": "6b562c7f",
   "metadata": {},
   "outputs": [],
   "source": [
    "user_anime_pivot = anime_rating_merge.pivot_table(index = ['user_id'], columns = ['name'], values = 'rating').fillna(0)"
   ]
  },
  {
   "cell_type": "code",
   "execution_count": null,
   "id": "adbfa79e",
   "metadata": {},
   "outputs": [],
   "source": [
    "user_anime_pivot.info() # Detail information of the User-Anime pivot table"
   ]
  },
  {
   "cell_type": "code",
   "execution_count": null,
   "id": "405b492c",
   "metadata": {},
   "outputs": [],
   "source": [
    "user_anime_pivot.head() # pivot table at a glance"
   ]
  },
  {
   "cell_type": "markdown",
   "id": "0b21f9d0",
   "metadata": {},
   "source": [
    "## Convert Pivoted DF to Matrix\n",
    "Conversion of User-Anime pivot table to a Compressed Sparse Row (CSR) matrix for efficient row(s) calculations."
   ]
  },
  {
   "cell_type": "code",
   "execution_count": null,
   "id": "07fa69dc",
   "metadata": {},
   "outputs": [],
   "source": [
    "user_anime_matrix = sc.sparse.csr_matrix(user_anime_pivot.values)"
   ]
  },
  {
   "cell_type": "markdown",
   "id": "3a3c9528",
   "metadata": {},
   "source": [
    "## Construct KNN Model from Matrix\n",
    "Instantiating the NearestNeighbors class from the Matrix-Array with Euclidean Distance-Metric for implementing Neighbor searches."
   ]
  },
  {
   "cell_type": "code",
   "execution_count": null,
   "id": "e031c58b",
   "metadata": {},
   "outputs": [],
   "source": [
    "model_knn_euclidean = NearestNeighbors(metric='euclidean', algorithm='brute')\n",
    "model_knn_euclidean.fit(user_anime_matrix)"
   ]
  },
  {
   "cell_type": "markdown",
   "id": "e6b498c0",
   "metadata": {},
   "source": [
    "## Extract Similar Users"
   ]
  },
  {
   "cell_type": "code",
   "execution_count": null,
   "id": "834b7c49",
   "metadata": {},
   "outputs": [],
   "source": [
    "seen_anime_ids = []\n",
    "num_neighbors = 20"
   ]
  },
  {
   "cell_type": "markdown",
   "id": "2c982248",
   "metadata": {},
   "source": [
    "> **Option 1**: Retrieve similar users by passing an existing **user_id**"
   ]
  },
  {
   "cell_type": "code",
   "execution_count": null,
   "id": "4f3456e9",
   "metadata": {},
   "outputs": [],
   "source": [
    "def get_similar_users_by_userid(user_id):\n",
    "    global seen_anime_ids\n",
    "    if user_id != 0:\n",
    "        seen_anime_ids = ratings[ratings.user_id == user_id]['anime_id'].tolist() # Assigning a list of anime_ids from rating DF filtered by user_id argument\n",
    "    user_rating_reshaped = user_anime_pivot.loc[user_id,:].values.reshape(1,-1) # Reshaping the DF row into an Array\n",
    "    distances, indices = model_knn_euclidean.kneighbors(user_rating_reshaped, n_neighbors = num_neighbors) # Generating nearest neighbors from model_knn and above array as per num_neighbors argument\n",
    "    distances, user_ids = distances.flatten(), [user_anime_pivot.index[i] for i in indices.flatten()] # un-wraping the nested-lists of distances, indices. Retrieving a list of user_ids as per indices from User-Anime pivot table \n",
    "    print(f'Users similar to {user_id}:\\n\\nSN.\\tUser_ID\\t\\tDistance')\n",
    "    for i in range(0, len(distances)):\n",
    "        print(f'{i}\\t{user_ids[i]},\\t\\t{distances.flatten()[i]}')\n",
    "    return user_ids"
   ]
  },
  {
   "cell_type": "code",
   "execution_count": null,
   "id": "d3f6802d",
   "metadata": {},
   "outputs": [],
   "source": [
    "user_id = ratings.user_id.sample().iloc[0]\n",
    "similar_user_ids = get_similar_users_by_userid(user_id)"
   ]
  },
  {
   "cell_type": "markdown",
   "id": "57326f33",
   "metadata": {},
   "source": [
    "> **Option 2**: Retrieve similar users by passing a **dictionary** of <anime_name, rating> pair, faking User rating per anime"
   ]
  },
  {
   "cell_type": "code",
   "execution_count": null,
   "id": "5493503d",
   "metadata": {},
   "outputs": [],
   "source": [
    "def get_similar_users_by_ratings(anime_ratings: dict):\n",
    "    global seen_anime_ids\n",
    "    seen_anime_ids = list(anime_ratings.keys())\n",
    "    user_anime_pivot.loc[-1] = anime_ratings # Inserting the anime ratings in the previous User-Anime pivot table as row with index label -1\n",
    "    user_anime_pivot.loc[-1] = user_anime_pivot.loc[-1].fillna(0) # Cleaning NaN values of the above inserted row\n",
    "    return get_similar_users_by_userid(-1)"
   ]
  },
  {
   "cell_type": "markdown",
   "id": "136697c3",
   "metadata": {},
   "source": [
    "**Anime-Ratings Faker** : Random generation of anime ratings as per num_anime argument (Note: Its usuage may lead to less recommendations)"
   ]
  },
  {
   "cell_type": "code",
   "execution_count": null,
   "id": "d3e31fc0",
   "metadata": {},
   "outputs": [],
   "source": [
    "def generate_anime_ratings(num_anime):\n",
    "    anime_ratings = {}\n",
    "    anime_collection = animes['name'].tolist()\n",
    "    rating_collection = [i for i in range(1,11)]\n",
    "    for i in range(0, num_anime):   \n",
    "        anime_name = \"\"\n",
    "        while(True):            \n",
    "            anime_name = random.choice(anime_collection)\n",
    "            if(anime_name not in anime_ratings): break\n",
    "        anime_ratings[anime_name] = random.choice(rating_collection)\n",
    "    print(json.dumps(['Randomly Generated Anime-Ratings', anime_ratings], indent = 4),'\\n')\n",
    "    return anime_ratings"
   ]
  },
  {
   "cell_type": "code",
   "execution_count": null,
   "id": "b48e7c98",
   "metadata": {},
   "outputs": [],
   "source": [
    "r = generate_anime_ratings(21)\n",
    "similar_user_ids = get_similar_users_by_ratings(r)"
   ]
  },
  {
   "cell_type": "markdown",
   "id": "359e1c5b",
   "metadata": {},
   "source": [
    "## Generate Anime Recommendations using Similar Users"
   ]
  },
  {
   "cell_type": "code",
   "execution_count": null,
   "id": "a643da91",
   "metadata": {},
   "outputs": [],
   "source": [
    "ratings_per_similar_user = ratings[ratings.user_id.isin(similar_user_ids) & ~ratings.anime_id.isin(seen_anime_ids)] # Extract ratings of similar user from rating DF having unseen anime_id\n",
    "anime_rating_group = ratings_per_similar_user[['anime_id', 'rating']].groupby('anime_id', sort=False, as_index=False).mean() # Grouping anime_id and calculating average rating per anime from similar user's rating.\n",
    "anime_rating_group.sort_values(by='rating', ascending=False, inplace=True) # Sort the above DF by rating (feature) descendingly\n",
    "anime_recommendations = pd.merge(anime_rating_group['anime_id'], animes, on='anime_id')"
   ]
  },
  {
   "cell_type": "code",
   "execution_count": null,
   "id": "6ed6d3d0",
   "metadata": {},
   "outputs": [],
   "source": [
    "def get_anime_recommendations(num_anime): # Generates a fixSed number of anime recommendations as per num_anime argument\n",
    "    return anime_recommendations[0:num_anime]"
   ]
  },
  {
   "cell_type": "code",
   "execution_count": null,
   "id": "e684971c",
   "metadata": {},
   "outputs": [],
   "source": [
    "get_anime_recommendations(15)"
   ]
  }
 ],
 "metadata": {
  "kernelspec": {
   "display_name": "Python 3 (ipykernel)",
   "language": "python",
   "name": "python3"
  },
  "language_info": {
   "codemirror_mode": {
    "name": "ipython",
    "version": 3
   },
   "file_extension": ".py",
   "mimetype": "text/x-python",
   "name": "python",
   "nbconvert_exporter": "python",
   "pygments_lexer": "ipython3",
   "version": "3.9.7"
  }
 },
 "nbformat": 4,
 "nbformat_minor": 5
}
