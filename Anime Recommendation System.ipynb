{
 "cells": [
  {
   "cell_type": "markdown",
   "id": "e39eb4ca",
   "metadata": {},
   "source": [
    "# Library Import"
   ]
  },
  {
   "cell_type": "code",
   "execution_count": 1,
   "id": "99c29730",
   "metadata": {},
   "outputs": [],
   "source": [
    "import pandas as pd # Data processing: CSV file I/O\n",
    "import sweetviz as sv # Exploratory Data Analysis\n",
    "import scipy as sc # Sparse matrix\n",
    "from sklearn.neighbors import NearestNeighbors # Neighbors-based classification and Searches\n",
    "import random # Random Generation of Test User-Rating Data Dictionary\n",
    "import json # Well-formatted Dictionary\n",
    "import statistics # Mean Calculations"
   ]
  },
  {
   "cell_type": "markdown",
   "id": "5de403d1",
   "metadata": {},
   "source": [
    "# Data Import\n",
    "Datasets link: https://www.kaggle.com/CooperUnion/anime-recommendations-database\n",
    "\n",
    "| file | size | rows | columns |\n",
    "| --- | --- | --- | --- |\n",
    "| anime.csv | 914kb | 12294 | 7 |\n",
    "| rating.csv | 106MB | 7813737 | 3 | \n",
    "\n",
    "This data set contains information on user preference data from 73,516 users on 12,294 anime."
   ]
  },
  {
   "cell_type": "code",
   "execution_count": 2,
   "id": "8de3d05a",
   "metadata": {},
   "outputs": [],
   "source": [
    "DIR = 'datasets/'\n",
    "anime = pd.read_csv(DIR + \"anime.csv\", dtype= { 'anime_id': int, 'members': int}, encoding='utf-8-sig')\n",
    "rating = pd.read_csv(DIR + \"rating.csv\", dtype = int)"
   ]
  },
  {
   "cell_type": "markdown",
   "id": "0d9b3983",
   "metadata": {},
   "source": [
    "# Data Exploration and Analysis"
   ]
  },
  {
   "cell_type": "code",
   "execution_count": 3,
   "id": "3412ea5f",
   "metadata": {},
   "outputs": [
    {
     "data": {
      "text/html": [
       "<div>\n",
       "<style scoped>\n",
       "    .dataframe tbody tr th:only-of-type {\n",
       "        vertical-align: middle;\n",
       "    }\n",
       "\n",
       "    .dataframe tbody tr th {\n",
       "        vertical-align: top;\n",
       "    }\n",
       "\n",
       "    .dataframe thead th {\n",
       "        text-align: right;\n",
       "    }\n",
       "</style>\n",
       "<table border=\"1\" class=\"dataframe\">\n",
       "  <thead>\n",
       "    <tr style=\"text-align: right;\">\n",
       "      <th></th>\n",
       "      <th>anime_id</th>\n",
       "      <th>name</th>\n",
       "      <th>genre</th>\n",
       "      <th>type</th>\n",
       "      <th>episodes</th>\n",
       "      <th>rating</th>\n",
       "      <th>members</th>\n",
       "    </tr>\n",
       "  </thead>\n",
       "  <tbody>\n",
       "    <tr>\n",
       "      <th>0</th>\n",
       "      <td>32281</td>\n",
       "      <td>Kimi no Na wa.</td>\n",
       "      <td>Drama, Romance, School, Supernatural</td>\n",
       "      <td>Movie</td>\n",
       "      <td>1</td>\n",
       "      <td>9.37</td>\n",
       "      <td>200630</td>\n",
       "    </tr>\n",
       "    <tr>\n",
       "      <th>1</th>\n",
       "      <td>5114</td>\n",
       "      <td>Fullmetal Alchemist: Brotherhood</td>\n",
       "      <td>Action, Adventure, Drama, Fantasy, Magic, Mili...</td>\n",
       "      <td>TV</td>\n",
       "      <td>64</td>\n",
       "      <td>9.26</td>\n",
       "      <td>793665</td>\n",
       "    </tr>\n",
       "    <tr>\n",
       "      <th>2</th>\n",
       "      <td>28977</td>\n",
       "      <td>Gintama°</td>\n",
       "      <td>Action, Comedy, Historical, Parody, Samurai, S...</td>\n",
       "      <td>TV</td>\n",
       "      <td>51</td>\n",
       "      <td>9.25</td>\n",
       "      <td>114262</td>\n",
       "    </tr>\n",
       "    <tr>\n",
       "      <th>3</th>\n",
       "      <td>9253</td>\n",
       "      <td>Steins;Gate</td>\n",
       "      <td>Sci-Fi, Thriller</td>\n",
       "      <td>TV</td>\n",
       "      <td>24</td>\n",
       "      <td>9.17</td>\n",
       "      <td>673572</td>\n",
       "    </tr>\n",
       "    <tr>\n",
       "      <th>4</th>\n",
       "      <td>9969</td>\n",
       "      <td>Gintama&amp;#039;</td>\n",
       "      <td>Action, Comedy, Historical, Parody, Samurai, S...</td>\n",
       "      <td>TV</td>\n",
       "      <td>51</td>\n",
       "      <td>9.16</td>\n",
       "      <td>151266</td>\n",
       "    </tr>\n",
       "  </tbody>\n",
       "</table>\n",
       "</div>"
      ],
      "text/plain": [
       "   anime_id                              name  \\\n",
       "0     32281                    Kimi no Na wa.   \n",
       "1      5114  Fullmetal Alchemist: Brotherhood   \n",
       "2     28977                          Gintama°   \n",
       "3      9253                       Steins;Gate   \n",
       "4      9969                     Gintama&#039;   \n",
       "\n",
       "                                               genre   type episodes  rating  \\\n",
       "0               Drama, Romance, School, Supernatural  Movie        1    9.37   \n",
       "1  Action, Adventure, Drama, Fantasy, Magic, Mili...     TV       64    9.26   \n",
       "2  Action, Comedy, Historical, Parody, Samurai, S...     TV       51    9.25   \n",
       "3                                   Sci-Fi, Thriller     TV       24    9.17   \n",
       "4  Action, Comedy, Historical, Parody, Samurai, S...     TV       51    9.16   \n",
       "\n",
       "   members  \n",
       "0   200630  \n",
       "1   793665  \n",
       "2   114262  \n",
       "3   673572  \n",
       "4   151266  "
      ]
     },
     "execution_count": 3,
     "metadata": {},
     "output_type": "execute_result"
    }
   ],
   "source": [
    "anime.head() # Read first 5 row of anime DataFrame (DF)"
   ]
  },
  {
   "cell_type": "code",
   "execution_count": 4,
   "id": "e9049c6c",
   "metadata": {},
   "outputs": [
    {
     "data": {
      "text/html": [
       "<div>\n",
       "<style scoped>\n",
       "    .dataframe tbody tr th:only-of-type {\n",
       "        vertical-align: middle;\n",
       "    }\n",
       "\n",
       "    .dataframe tbody tr th {\n",
       "        vertical-align: top;\n",
       "    }\n",
       "\n",
       "    .dataframe thead th {\n",
       "        text-align: right;\n",
       "    }\n",
       "</style>\n",
       "<table border=\"1\" class=\"dataframe\">\n",
       "  <thead>\n",
       "    <tr style=\"text-align: right;\">\n",
       "      <th></th>\n",
       "      <th>user_id</th>\n",
       "      <th>anime_id</th>\n",
       "      <th>rating</th>\n",
       "    </tr>\n",
       "  </thead>\n",
       "  <tbody>\n",
       "    <tr>\n",
       "      <th>0</th>\n",
       "      <td>1</td>\n",
       "      <td>20</td>\n",
       "      <td>-1</td>\n",
       "    </tr>\n",
       "    <tr>\n",
       "      <th>1</th>\n",
       "      <td>1</td>\n",
       "      <td>24</td>\n",
       "      <td>-1</td>\n",
       "    </tr>\n",
       "    <tr>\n",
       "      <th>2</th>\n",
       "      <td>1</td>\n",
       "      <td>79</td>\n",
       "      <td>-1</td>\n",
       "    </tr>\n",
       "    <tr>\n",
       "      <th>3</th>\n",
       "      <td>1</td>\n",
       "      <td>226</td>\n",
       "      <td>-1</td>\n",
       "    </tr>\n",
       "    <tr>\n",
       "      <th>4</th>\n",
       "      <td>1</td>\n",
       "      <td>241</td>\n",
       "      <td>-1</td>\n",
       "    </tr>\n",
       "  </tbody>\n",
       "</table>\n",
       "</div>"
      ],
      "text/plain": [
       "   user_id  anime_id  rating\n",
       "0        1        20      -1\n",
       "1        1        24      -1\n",
       "2        1        79      -1\n",
       "3        1       226      -1\n",
       "4        1       241      -1"
      ]
     },
     "execution_count": 4,
     "metadata": {},
     "output_type": "execute_result"
    }
   ],
   "source": [
    "rating.head() # Read first 5 row of rating DataFrame"
   ]
  },
  {
   "cell_type": "code",
   "execution_count": 5,
   "id": "bd5a5db8",
   "metadata": {},
   "outputs": [
    {
     "name": "stdout",
     "output_type": "stream",
     "text": [
      "<class 'pandas.core.frame.DataFrame'>\n",
      "RangeIndex: 12294 entries, 0 to 12293\n",
      "Data columns (total 7 columns):\n",
      " #   Column    Non-Null Count  Dtype  \n",
      "---  ------    --------------  -----  \n",
      " 0   anime_id  12294 non-null  int32  \n",
      " 1   name      12294 non-null  object \n",
      " 2   genre     12232 non-null  object \n",
      " 3   type      12269 non-null  object \n",
      " 4   episodes  12294 non-null  object \n",
      " 5   rating    12064 non-null  float64\n",
      " 6   members   12294 non-null  int32  \n",
      "dtypes: float64(1), int32(2), object(4)\n",
      "memory usage: 576.4+ KB\n"
     ]
    }
   ],
   "source": [
    "anime.info() # Detail information of anime DF"
   ]
  },
  {
   "cell_type": "code",
   "execution_count": 6,
   "id": "08694071",
   "metadata": {},
   "outputs": [
    {
     "data": {
      "text/plain": [
       "user_id     0\n",
       "anime_id    0\n",
       "rating      0\n",
       "dtype: int64"
      ]
     },
     "execution_count": 6,
     "metadata": {},
     "output_type": "execute_result"
    }
   ],
   "source": [
    "rating.isnull().sum() # Find Columns of ratings DF with any missing values"
   ]
  },
  {
   "cell_type": "code",
   "execution_count": 7,
   "id": "8f877d37",
   "metadata": {},
   "outputs": [
    {
     "name": "stdout",
     "output_type": "stream",
     "text": [
      "<class 'pandas.core.frame.DataFrame'>\n",
      "RangeIndex: 7813737 entries, 0 to 7813736\n",
      "Data columns (total 3 columns):\n",
      " #   Column    Dtype\n",
      "---  ------    -----\n",
      " 0   user_id   int32\n",
      " 1   anime_id  int32\n",
      " 2   rating    int32\n",
      "dtypes: int32(3)\n",
      "memory usage: 89.4 MB\n"
     ]
    }
   ],
   "source": [
    "rating.info() # Detail information of rating DF with missing values"
   ]
  },
  {
   "cell_type": "code",
   "execution_count": 8,
   "id": "3c8c850c",
   "metadata": {},
   "outputs": [
    {
     "data": {
      "text/plain": [
       "anime_id      0\n",
       "name          0\n",
       "genre        62\n",
       "type         25\n",
       "episodes      0\n",
       "rating      230\n",
       "members       0\n",
       "dtype: int64"
      ]
     },
     "execution_count": 8,
     "metadata": {},
     "output_type": "execute_result"
    }
   ],
   "source": [
    "anime.isnull().sum() # Find Columns of anime DF with any missing values"
   ]
  },
  {
   "cell_type": "code",
   "execution_count": 9,
   "id": "b78bd6d6",
   "metadata": {},
   "outputs": [
    {
     "data": {
      "text/plain": [
       "73515"
      ]
     },
     "execution_count": 9,
     "metadata": {},
     "output_type": "execute_result"
    }
   ],
   "source": [
    "len(rating['user_id'].unique()) # number of users"
   ]
  },
  {
   "cell_type": "code",
   "execution_count": 10,
   "id": "9814cf0d",
   "metadata": {},
   "outputs": [
    {
     "data": {
      "text/plain": [
       "12294"
      ]
     },
     "execution_count": 10,
     "metadata": {},
     "output_type": "execute_result"
    }
   ],
   "source": [
    "len(anime['anime_id'].unique()) # number of unique animes in anime DF"
   ]
  },
  {
   "cell_type": "code",
   "execution_count": 11,
   "id": "ff5f1054",
   "metadata": {},
   "outputs": [
    {
     "data": {
      "text/plain": [
       "12.040100862209208"
      ]
     },
     "execution_count": 11,
     "metadata": {},
     "output_type": "execute_result"
    }
   ],
   "source": [
    "episodes = pd.to_numeric(anime['episodes'], errors='coerce').fillna(0) # average number of episodes in anime\n",
    "statistics.mean(episodes.tolist())"
   ]
  },
  {
   "cell_type": "code",
   "execution_count": 12,
   "id": "6646c889",
   "metadata": {},
   "outputs": [
    {
     "data": {
      "text/plain": [
       "106.28765558049378"
      ]
     },
     "execution_count": 12,
     "metadata": {},
     "output_type": "execute_result"
    }
   ],
   "source": [
    "anime_watched_per_user = rating.groupby('user_id')['rating'].count() # average number of anime rated per user\n",
    "statistics.mean(anime_watched_per_user.tolist())"
   ]
  },
  {
   "cell_type": "code",
   "execution_count": 13,
   "id": "92386c3f",
   "metadata": {},
   "outputs": [
    {
     "data": {
      "text/plain": [
       "<AxesSubplot:>"
      ]
     },
     "execution_count": 13,
     "metadata": {},
     "output_type": "execute_result"
    },
    {
     "data": {
      "image/png": "[encoded data removed]",
      "text/plain": [
       "<Figure size 576x360 with 1 Axes>"
      ]
     },
     "metadata": {
      "needs_background": "light"
     },
     "output_type": "display_data"
    }
   ],
   "source": [
    "anime_watched_per_user.hist(bins=50, range=(-100,500), figsize=(8,5)) # Histogram on distribution of anime-watch per user"
   ]
  },
  {
   "cell_type": "code",
   "execution_count": 14,
   "id": "61a8880c",
   "metadata": {},
   "outputs": [
    {
     "data": {
      "text/plain": [
       "697.6550892857143"
      ]
     },
     "execution_count": 14,
     "metadata": {},
     "output_type": "execute_result"
    }
   ],
   "source": [
    "ratings_per_anime = rating.groupby('anime_id')['rating'].count()\n",
    "statistics.mean(ratings_per_anime.tolist()) #average rating per anime"
   ]
  },
  {
   "cell_type": "code",
   "execution_count": 15,
   "id": "4cde3395",
   "metadata": {},
   "outputs": [
    {
     "data": {
      "text/plain": [
       "<AxesSubplot:>"
      ]
     },
     "execution_count": 15,
     "metadata": {},
     "output_type": "execute_result"
    },
    {
     "data": {
      "image/png": "[encoded data removed]",
      "text/plain": [
       "<Figure size 576x360 with 1 Axes>"
      ]
     },
     "metadata": {
      "needs_background": "light"
     },
     "output_type": "display_data"
    }
   ],
   "source": [
    "ratings_per_anime.hist(bins=50, range=(-100,500), figsize=(8,5)) # Histogram on distribution of rating per anime"
   ]
  },
  {
   "cell_type": "code",
   "execution_count": 16,
   "id": "47fc0f43",
   "metadata": {},
   "outputs": [
    {
     "data": {
      "text/plain": [
       "<AxesSubplot:ylabel='Anime Rating'>"
      ]
     },
     "execution_count": 16,
     "metadata": {},
     "output_type": "execute_result"
    },
    {
     "data": {
      "image/png": "[encoded data removed]",
      "text/plain": [
       "<Figure size 576x360 with 1 Axes>"
      ]
     },
     "metadata": {
      "needs_background": "light"
     },
     "output_type": "display_data"
    }
   ],
   "source": [
    "rating.rating.value_counts(sort=True).plot(kind='barh', xlabel = 'Anime Rating', figsize=(8,5)) # rating(1-10) count"
   ]
  },
  {
   "cell_type": "code",
   "execution_count": 17,
   "id": "2152c5c4",
   "metadata": {},
   "outputs": [
    {
     "data": {
      "text/plain": [
       "<AxesSubplot:ylabel='type'>"
      ]
     },
     "execution_count": 17,
     "metadata": {},
     "output_type": "execute_result"
    },
    {
     "data": {
      "image/png": "[encoded data removed]",
      "text/plain": [
       "<Figure size 432x432 with 1 Axes>"
      ]
     },
     "metadata": {},
     "output_type": "display_data"
    }
   ],
   "source": [
    "anime.type.value_counts(sort=True).plot(kind='pie', xlabel = 'Type of Anime', table=True, figsize=(6,6)) # Type Count"
   ]
  },
  {
   "cell_type": "code",
   "execution_count": 18,
   "id": "cbe2ce80",
   "metadata": {},
   "outputs": [],
   "source": [
    "num_anime_per_genre = {}\n",
    "for genre_chunk in anime['genre']:\n",
    "    granular_genre = [x.strip() for x in str(genre_chunk).split(',')]\n",
    "    for genre in granular_genre:\n",
    "        if (genre in num_anime_per_genre.keys()):\n",
    "            num_anime_per_genre[genre] += 1\n",
    "        else:\n",
    "            num_anime_per_genre[genre] = 0"
   ]
  },
  {
   "cell_type": "code",
   "execution_count": 19,
   "id": "55350ba7",
   "metadata": {},
   "outputs": [
    {
     "data": {
      "text/plain": [
       "<AxesSubplot:ylabel='Genre'>"
      ]
     },
     "execution_count": 19,
     "metadata": {},
     "output_type": "execute_result"
    },
    {
     "data": {
      "image/png": "[encoded data removed]",
      "text/plain": [
       "<Figure size 720x720 with 1 Axes>"
      ]
     },
     "metadata": {
      "needs_background": "light"
     },
     "output_type": "display_data"
    }
   ],
   "source": [
    "pd.DataFrame(num_anime_per_genre.items(), columns=['Genre', 'Number of Anime']).sort_values(by='Number of Anime', ascending=False).plot(kind='barh', x='Genre', y='Number of Anime', figsize=(10,10)) # Anime per Genre"
   ]
  },
  {
   "cell_type": "code",
   "execution_count": 20,
   "id": "478cb1e7",
   "metadata": {},
   "outputs": [
    {
     "data": {
      "text/plain": [
       "<AxesSubplot:ylabel='name'>"
      ]
     },
     "execution_count": 20,
     "metadata": {},
     "output_type": "execute_result"
    },
    {
     "data": {
      "image/png": "[encoded data removed]",
      "text/plain": [
       "<Figure size 720x720 with 1 Axes>"
      ]
     },
     "metadata": {
      "needs_background": "light"
     },
     "output_type": "display_data"
    }
   ],
   "source": [
    "anime.sort_values(by='rating', ascending=False)[0:30].plot(kind='barh', x='name', y='rating', logx=True, figsize=(10,10)) # Top 30 highest-rated Anime"
   ]
  },
  {
   "cell_type": "code",
   "execution_count": null,
   "id": "d2938b1e",
   "metadata": {
    "scrolled": true
   },
   "outputs": [],
   "source": [
    "anime_report = sv.analyze([anime, 'Anime']) # Easy geration of exploratory data analysis report using sweetviz package\n",
    "anime_report.show_html('anime_report.html', layout='vertical', scale=1.0)"
   ]
  },
  {
   "cell_type": "code",
   "execution_count": null,
   "id": "8c54e16f",
   "metadata": {},
   "outputs": [],
   "source": [
    "rating_report = sv.analyze([rating, 'Anime Rating']) \n",
    "rating_report.show_html('rating_report.html', layout='vertical', scale=1.0)"
   ]
  },
  {
   "cell_type": "code",
   "execution_count": null,
   "id": "9867a27b",
   "metadata": {},
   "outputs": [],
   "source": [
    "anime_rating_comparison = sv.compare([anime, 'Anime'],[rating, 'Anime Rating'], \"anime_id\")\n",
    "anime_rating_comparison.show_html('rating_report.html', layout='vertical', scale=1.0)"
   ]
  },
  {
   "cell_type": "markdown",
   "id": "25f85102",
   "metadata": {},
   "source": [
    "# Data Cleaning: rating DF\n",
    "*rating*(DF) => *rating*(feature) value(1-10): **-1** means the user did not rated even after watching it (anime) and can be considered invaluable/invalid."
   ]
  },
  {
   "cell_type": "code",
   "execution_count": 21,
   "id": "155203ef",
   "metadata": {},
   "outputs": [],
   "source": [
    "anime.dropna(inplace=True, subset=['genre']) # Dropping nulls if they exist"
   ]
  },
  {
   "cell_type": "code",
   "execution_count": 22,
   "id": "0a358245",
   "metadata": {},
   "outputs": [],
   "source": [
    "rating = rating[rating.rating != -1] # Removing user_ratings with rating value -1"
   ]
  },
  {
   "cell_type": "code",
   "execution_count": 23,
   "id": "96aba463",
   "metadata": {},
   "outputs": [],
   "source": [
    "rating = rating[rating.anime_id.isin(anime['anime_id'])] # Removing ratings unrelated to any anime in anime DF"
   ]
  },
  {
   "cell_type": "code",
   "execution_count": 24,
   "id": "80751140",
   "metadata": {},
   "outputs": [
    {
     "data": {
      "text/html": [
       "<div>\n",
       "<style scoped>\n",
       "    .dataframe tbody tr th:only-of-type {\n",
       "        vertical-align: middle;\n",
       "    }\n",
       "\n",
       "    .dataframe tbody tr th {\n",
       "        vertical-align: top;\n",
       "    }\n",
       "\n",
       "    .dataframe thead th {\n",
       "        text-align: right;\n",
       "    }\n",
       "</style>\n",
       "<table border=\"1\" class=\"dataframe\">\n",
       "  <thead>\n",
       "    <tr style=\"text-align: right;\">\n",
       "      <th></th>\n",
       "      <th>user_id</th>\n",
       "      <th>anime_id</th>\n",
       "      <th>rating</th>\n",
       "    </tr>\n",
       "  </thead>\n",
       "  <tbody>\n",
       "    <tr>\n",
       "      <th>47</th>\n",
       "      <td>1</td>\n",
       "      <td>8074</td>\n",
       "      <td>10</td>\n",
       "    </tr>\n",
       "    <tr>\n",
       "      <th>81</th>\n",
       "      <td>1</td>\n",
       "      <td>11617</td>\n",
       "      <td>10</td>\n",
       "    </tr>\n",
       "    <tr>\n",
       "      <th>83</th>\n",
       "      <td>1</td>\n",
       "      <td>11757</td>\n",
       "      <td>10</td>\n",
       "    </tr>\n",
       "    <tr>\n",
       "      <th>101</th>\n",
       "      <td>1</td>\n",
       "      <td>15451</td>\n",
       "      <td>10</td>\n",
       "    </tr>\n",
       "    <tr>\n",
       "      <th>153</th>\n",
       "      <td>2</td>\n",
       "      <td>11771</td>\n",
       "      <td>10</td>\n",
       "    </tr>\n",
       "  </tbody>\n",
       "</table>\n",
       "</div>"
      ],
      "text/plain": [
       "     user_id  anime_id  rating\n",
       "47         1      8074      10\n",
       "81         1     11617      10\n",
       "83         1     11757      10\n",
       "101        1     15451      10\n",
       "153        2     11771      10"
      ]
     },
     "execution_count": 24,
     "metadata": {},
     "output_type": "execute_result"
    }
   ],
   "source": [
    "rating.head() # Cleaned rating DF at a glance"
   ]
  },
  {
   "cell_type": "code",
   "execution_count": 25,
   "id": "642f4160",
   "metadata": {},
   "outputs": [
    {
     "name": "stdout",
     "output_type": "stream",
     "text": [
      "<class 'pandas.core.frame.DataFrame'>\n",
      "Int64Index: 6337151 entries, 47 to 7813736\n",
      "Data columns (total 3 columns):\n",
      " #   Column    Dtype\n",
      "---  ------    -----\n",
      " 0   user_id   int32\n",
      " 1   anime_id  int32\n",
      " 2   rating    int32\n",
      "dtypes: int32(3)\n",
      "memory usage: 120.9 MB\n"
     ]
    }
   ],
   "source": [
    "rating.info()"
   ]
  },
  {
   "cell_type": "markdown",
   "id": "b55a1d45",
   "metadata": {},
   "source": [
    "# Data Merge: (Anime + Rating) DF\n",
    "As per the common feature (anime_id), Two Dataframes are merged accordingly."
   ]
  },
  {
   "cell_type": "code",
   "execution_count": 26,
   "id": "9471a89c",
   "metadata": {},
   "outputs": [],
   "source": [
    "anime_ = anime[['anime_id', 'name']] # Omiting unnecessary columns from DataFrame\n",
    "anime_rating_merge = pd.merge(anime_, rating, on='anime_id') # Table Merge"
   ]
  },
  {
   "cell_type": "markdown",
   "id": "aee9a81c",
   "metadata": {},
   "source": [
    "# Pivot and Reshape the Merged DFs\n",
    "Reshaping/Pivoting a table generates numerous NaN (Not a Number) values. It must be cleaned to avoid exceptions on further processing. Hence the NaN values is replaced by 0."
   ]
  },
  {
   "cell_type": "code",
   "execution_count": 27,
   "id": "6b562c7f",
   "metadata": {},
   "outputs": [],
   "source": [
    "user_anime_pivot = anime_rating_merge.pivot_table(index = ['user_id'], columns = ['name'], values = 'rating').fillna(0)"
   ]
  },
  {
   "cell_type": "code",
   "execution_count": 28,
   "id": "adbfa79e",
   "metadata": {},
   "outputs": [
    {
     "name": "stdout",
     "output_type": "stream",
     "text": [
      "<class 'pandas.core.frame.DataFrame'>\n",
      "Int64Index: 69600 entries, 1 to 73516\n",
      "Columns: 9894 entries, &quot;0&quot; to ◯\n",
      "dtypes: float64(9894)\n",
      "memory usage: 5.1 GB\n"
     ]
    }
   ],
   "source": [
    "user_anime_pivot.info() # Detail information of the User-Anime pivot table"
   ]
  },
  {
   "cell_type": "code",
   "execution_count": 29,
   "id": "405b492c",
   "metadata": {},
   "outputs": [
    {
     "data": {
      "text/html": [
       "<div>\n",
       "<style scoped>\n",
       "    .dataframe tbody tr th:only-of-type {\n",
       "        vertical-align: middle;\n",
       "    }\n",
       "\n",
       "    .dataframe tbody tr th {\n",
       "        vertical-align: top;\n",
       "    }\n",
       "\n",
       "    .dataframe thead th {\n",
       "        text-align: right;\n",
       "    }\n",
       "</style>\n",
       "<table border=\"1\" class=\"dataframe\">\n",
       "  <thead>\n",
       "    <tr style=\"text-align: right;\">\n",
       "      <th>name</th>\n",
       "      <th>&amp;quot;0&amp;quot;</th>\n",
       "      <th>&amp;quot;Aesop&amp;quot; no Ohanashi yori: Ushi to Kaeru, Yokubatta Inu</th>\n",
       "      <th>&amp;quot;Bungaku Shoujo&amp;quot; Kyou no Oyatsu: Hatsukoi</th>\n",
       "      <th>&amp;quot;Bungaku Shoujo&amp;quot; Memoire</th>\n",
       "      <th>&amp;quot;Bungaku Shoujo&amp;quot; Movie</th>\n",
       "      <th>&amp;quot;Eiji&amp;quot;</th>\n",
       "      <th>.hack//G.U. Returner</th>\n",
       "      <th>.hack//G.U. Trilogy</th>\n",
       "      <th>.hack//G.U. Trilogy: Parody Mode</th>\n",
       "      <th>.hack//Gift</th>\n",
       "      <th>...</th>\n",
       "      <th>lilac (bombs Jun Togawa)</th>\n",
       "      <th>makemagic</th>\n",
       "      <th>s.CRY.ed</th>\n",
       "      <th>vivi</th>\n",
       "      <th>xxxHOLiC</th>\n",
       "      <th>xxxHOLiC Kei</th>\n",
       "      <th>xxxHOLiC Movie: Manatsu no Yoru no Yume</th>\n",
       "      <th>xxxHOLiC Rou</th>\n",
       "      <th>xxxHOLiC Shunmuki</th>\n",
       "      <th>◯</th>\n",
       "    </tr>\n",
       "    <tr>\n",
       "      <th>user_id</th>\n",
       "      <th></th>\n",
       "      <th></th>\n",
       "      <th></th>\n",
       "      <th></th>\n",
       "      <th></th>\n",
       "      <th></th>\n",
       "      <th></th>\n",
       "      <th></th>\n",
       "      <th></th>\n",
       "      <th></th>\n",
       "      <th></th>\n",
       "      <th></th>\n",
       "      <th></th>\n",
       "      <th></th>\n",
       "      <th></th>\n",
       "      <th></th>\n",
       "      <th></th>\n",
       "      <th></th>\n",
       "      <th></th>\n",
       "      <th></th>\n",
       "      <th></th>\n",
       "    </tr>\n",
       "  </thead>\n",
       "  <tbody>\n",
       "    <tr>\n",
       "      <th>73512</th>\n",
       "      <td>0.0</td>\n",
       "      <td>0.0</td>\n",
       "      <td>0.0</td>\n",
       "      <td>0.0</td>\n",
       "      <td>0.0</td>\n",
       "      <td>0.0</td>\n",
       "      <td>0.0</td>\n",
       "      <td>0.0</td>\n",
       "      <td>0.0</td>\n",
       "      <td>0.0</td>\n",
       "      <td>...</td>\n",
       "      <td>0.0</td>\n",
       "      <td>0.0</td>\n",
       "      <td>0.0</td>\n",
       "      <td>0.0</td>\n",
       "      <td>0.0</td>\n",
       "      <td>0.0</td>\n",
       "      <td>0.0</td>\n",
       "      <td>0.0</td>\n",
       "      <td>0.0</td>\n",
       "      <td>0.0</td>\n",
       "    </tr>\n",
       "    <tr>\n",
       "      <th>73513</th>\n",
       "      <td>0.0</td>\n",
       "      <td>0.0</td>\n",
       "      <td>0.0</td>\n",
       "      <td>0.0</td>\n",
       "      <td>0.0</td>\n",
       "      <td>0.0</td>\n",
       "      <td>0.0</td>\n",
       "      <td>0.0</td>\n",
       "      <td>0.0</td>\n",
       "      <td>0.0</td>\n",
       "      <td>...</td>\n",
       "      <td>0.0</td>\n",
       "      <td>0.0</td>\n",
       "      <td>0.0</td>\n",
       "      <td>0.0</td>\n",
       "      <td>0.0</td>\n",
       "      <td>0.0</td>\n",
       "      <td>0.0</td>\n",
       "      <td>0.0</td>\n",
       "      <td>0.0</td>\n",
       "      <td>0.0</td>\n",
       "    </tr>\n",
       "    <tr>\n",
       "      <th>73514</th>\n",
       "      <td>0.0</td>\n",
       "      <td>0.0</td>\n",
       "      <td>0.0</td>\n",
       "      <td>0.0</td>\n",
       "      <td>0.0</td>\n",
       "      <td>0.0</td>\n",
       "      <td>0.0</td>\n",
       "      <td>0.0</td>\n",
       "      <td>0.0</td>\n",
       "      <td>0.0</td>\n",
       "      <td>...</td>\n",
       "      <td>0.0</td>\n",
       "      <td>0.0</td>\n",
       "      <td>0.0</td>\n",
       "      <td>0.0</td>\n",
       "      <td>0.0</td>\n",
       "      <td>0.0</td>\n",
       "      <td>0.0</td>\n",
       "      <td>0.0</td>\n",
       "      <td>0.0</td>\n",
       "      <td>0.0</td>\n",
       "    </tr>\n",
       "    <tr>\n",
       "      <th>73515</th>\n",
       "      <td>0.0</td>\n",
       "      <td>0.0</td>\n",
       "      <td>0.0</td>\n",
       "      <td>0.0</td>\n",
       "      <td>0.0</td>\n",
       "      <td>0.0</td>\n",
       "      <td>0.0</td>\n",
       "      <td>0.0</td>\n",
       "      <td>0.0</td>\n",
       "      <td>0.0</td>\n",
       "      <td>...</td>\n",
       "      <td>0.0</td>\n",
       "      <td>0.0</td>\n",
       "      <td>9.0</td>\n",
       "      <td>0.0</td>\n",
       "      <td>0.0</td>\n",
       "      <td>0.0</td>\n",
       "      <td>0.0</td>\n",
       "      <td>0.0</td>\n",
       "      <td>0.0</td>\n",
       "      <td>0.0</td>\n",
       "    </tr>\n",
       "    <tr>\n",
       "      <th>73516</th>\n",
       "      <td>0.0</td>\n",
       "      <td>0.0</td>\n",
       "      <td>0.0</td>\n",
       "      <td>0.0</td>\n",
       "      <td>0.0</td>\n",
       "      <td>0.0</td>\n",
       "      <td>0.0</td>\n",
       "      <td>0.0</td>\n",
       "      <td>0.0</td>\n",
       "      <td>0.0</td>\n",
       "      <td>...</td>\n",
       "      <td>0.0</td>\n",
       "      <td>0.0</td>\n",
       "      <td>0.0</td>\n",
       "      <td>0.0</td>\n",
       "      <td>0.0</td>\n",
       "      <td>0.0</td>\n",
       "      <td>0.0</td>\n",
       "      <td>0.0</td>\n",
       "      <td>0.0</td>\n",
       "      <td>0.0</td>\n",
       "    </tr>\n",
       "  </tbody>\n",
       "</table>\n",
       "<p>5 rows × 9894 columns</p>\n",
       "</div>"
      ],
      "text/plain": [
       "name     &quot;0&quot;  \\\n",
       "user_id                  \n",
       "73512              0.0   \n",
       "73513              0.0   \n",
       "73514              0.0   \n",
       "73515              0.0   \n",
       "73516              0.0   \n",
       "\n",
       "name     &quot;Aesop&quot; no Ohanashi yori: Ushi to Kaeru, Yokubatta Inu  \\\n",
       "user_id                                                                     \n",
       "73512                                                  0.0                  \n",
       "73513                                                  0.0                  \n",
       "73514                                                  0.0                  \n",
       "73515                                                  0.0                  \n",
       "73516                                                  0.0                  \n",
       "\n",
       "name     &quot;Bungaku Shoujo&quot; Kyou no Oyatsu: Hatsukoi  \\\n",
       "user_id                                                        \n",
       "73512                                                  0.0     \n",
       "73513                                                  0.0     \n",
       "73514                                                  0.0     \n",
       "73515                                                  0.0     \n",
       "73516                                                  0.0     \n",
       "\n",
       "name     &quot;Bungaku Shoujo&quot; Memoire  &quot;Bungaku Shoujo&quot; Movie  \\\n",
       "user_id                                                                         \n",
       "73512                                   0.0                               0.0   \n",
       "73513                                   0.0                               0.0   \n",
       "73514                                   0.0                               0.0   \n",
       "73515                                   0.0                               0.0   \n",
       "73516                                   0.0                               0.0   \n",
       "\n",
       "name     &quot;Eiji&quot;  .hack//G.U. Returner  .hack//G.U. Trilogy  \\\n",
       "user_id                                                                \n",
       "73512                 0.0                   0.0                  0.0   \n",
       "73513                 0.0                   0.0                  0.0   \n",
       "73514                 0.0                   0.0                  0.0   \n",
       "73515                 0.0                   0.0                  0.0   \n",
       "73516                 0.0                   0.0                  0.0   \n",
       "\n",
       "name     .hack//G.U. Trilogy: Parody Mode  .hack//Gift  ...  \\\n",
       "user_id                                                 ...   \n",
       "73512                                 0.0          0.0  ...   \n",
       "73513                                 0.0          0.0  ...   \n",
       "73514                                 0.0          0.0  ...   \n",
       "73515                                 0.0          0.0  ...   \n",
       "73516                                 0.0          0.0  ...   \n",
       "\n",
       "name     lilac (bombs Jun Togawa)  makemagic  s.CRY.ed  vivi  xxxHOLiC  \\\n",
       "user_id                                                                  \n",
       "73512                         0.0        0.0       0.0   0.0       0.0   \n",
       "73513                         0.0        0.0       0.0   0.0       0.0   \n",
       "73514                         0.0        0.0       0.0   0.0       0.0   \n",
       "73515                         0.0        0.0       9.0   0.0       0.0   \n",
       "73516                         0.0        0.0       0.0   0.0       0.0   \n",
       "\n",
       "name     xxxHOLiC Kei  xxxHOLiC Movie: Manatsu no Yoru no Yume  xxxHOLiC Rou  \\\n",
       "user_id                                                                        \n",
       "73512             0.0                                      0.0           0.0   \n",
       "73513             0.0                                      0.0           0.0   \n",
       "73514             0.0                                      0.0           0.0   \n",
       "73515             0.0                                      0.0           0.0   \n",
       "73516             0.0                                      0.0           0.0   \n",
       "\n",
       "name     xxxHOLiC Shunmuki    ◯  \n",
       "user_id                          \n",
       "73512                  0.0  0.0  \n",
       "73513                  0.0  0.0  \n",
       "73514                  0.0  0.0  \n",
       "73515                  0.0  0.0  \n",
       "73516                  0.0  0.0  \n",
       "\n",
       "[5 rows x 9894 columns]"
      ]
     },
     "execution_count": 29,
     "metadata": {},
     "output_type": "execute_result"
    }
   ],
   "source": [
    "user_anime_pivot.tail() # pivot table at a glance"
   ]
  },
  {
   "cell_type": "markdown",
   "id": "0b21f9d0",
   "metadata": {},
   "source": [
    "# DF to Matrix-Array\n",
    "Conversion of User-Anime pivot table to a Compressed Sparse Row (CSR) matrix for efficient row(s) calculations."
   ]
  },
  {
   "cell_type": "code",
   "execution_count": 30,
   "id": "07fa69dc",
   "metadata": {},
   "outputs": [],
   "source": [
    "user_anime_matrix = sc.sparse.csr_matrix(user_anime_pivot.values)"
   ]
  },
  {
   "cell_type": "markdown",
   "id": "3a3c9528",
   "metadata": {},
   "source": [
    "# Matrix-Array fit on KNN model\n",
    "Instantiating the NearestNeighbors class from the Matrix-Array with Euclidean Distance-Metric for implementing Neighbor searches."
   ]
  },
  {
   "cell_type": "code",
   "execution_count": 31,
   "id": "e031c58b",
   "metadata": {},
   "outputs": [
    {
     "data": {
      "text/plain": [
       "NearestNeighbors(algorithm='brute', metric='euclidean')"
      ]
     },
     "execution_count": 31,
     "metadata": {},
     "output_type": "execute_result"
    }
   ],
   "source": [
    "model_knn_euclidean = NearestNeighbors(metric='euclidean', algorithm='brute')\n",
    "model_knn_euclidean.fit(user_anime_matrix)"
   ]
  },
  {
   "cell_type": "markdown",
   "id": "e6b498c0",
   "metadata": {},
   "source": [
    "# Similar User Extraction"
   ]
  },
  {
   "cell_type": "code",
   "execution_count": 32,
   "id": "834b7c49",
   "metadata": {},
   "outputs": [],
   "source": [
    "seen_anime_ids = []"
   ]
  },
  {
   "cell_type": "markdown",
   "id": "2c982248",
   "metadata": {},
   "source": [
    "Retrieve similar users by passing an existing **user_id**"
   ]
  },
  {
   "cell_type": "code",
   "execution_count": 75,
   "id": "4f3456e9",
   "metadata": {},
   "outputs": [],
   "source": [
    "def get_similar_users_by_userid(num_neighbors, user_id):\n",
    "    global seen_anime_ids\n",
    "    if user_id != 0:\n",
    "        seen_anime_ids = rating[rating.user_id == user_id]['anime_id'].tolist() # Assigning a list of anime_ids from rating DF filtered by user_id argument\n",
    "    user_rating_reshaped = user_anime_pivot.loc[user_id,:].values.reshape(1,-1) # Reshaping the DF row into an Array\n",
    "    distances, indices = model_knn_euclidean.kneighbors(user_rating_reshaped, n_neighbors = num_neighbors) # Generating nearest neighbors from model_knn and above array as per num_neighbors argument\n",
    "    distances, user_ids = distances.flatten(), [user_anime_pivot.index[i] for i in indices.flatten()] # un-wraping the nested-lists of distances, indices. Retrieving a list of user_ids as per indices from User-Anime pivot table \n",
    "    print(f'Users similar to {user_id}:\\n\\nSN.\\tUser_ID\\t\\tDistance')\n",
    "    for i in range(0, len(distances)):\n",
    "        print(f'{i}\\t{user_ids[i]},\\t\\t{distances.flatten()[i]}')\n",
    "    return user_ids"
   ]
  },
  {
   "cell_type": "code",
   "execution_count": 89,
   "id": "d3f6802d",
   "metadata": {},
   "outputs": [
    {
     "name": "stdout",
     "output_type": "stream",
     "text": [
      "Users similar to 36221:\n",
      "\n",
      "SN.\tUser_ID\t\tDistance\n",
      "0\t36221,\t\t0.0\n",
      "1\t43850,\t\t67.63135367564367\n",
      "2\t46130,\t\t67.90434448545984\n",
      "3\t69873,\t\t68.4178339323893\n",
      "4\t28498,\t\t68.64400920692205\n",
      "5\t1962,\t\t68.82586723027906\n",
      "6\t72327,\t\t68.85491994040804\n",
      "7\t37919,\t\t69.13031173081747\n",
      "8\t56723,\t\t69.18092222571191\n",
      "9\t48422,\t\t69.22427319950712\n",
      "10\t63974,\t\t69.26759704219572\n",
      "11\t69553,\t\t69.38299503480663\n",
      "12\t47133,\t\t69.46221994724903\n",
      "13\t70406,\t\t69.57010852370435\n",
      "14\t4610,\t\t69.59166616772443\n",
      "15\t46905,\t\t69.62039930939781\n",
      "16\t1920,\t\t69.67065379340143\n",
      "17\t41674,\t\t69.68500556073738\n",
      "18\t33090,\t\t69.6921803361037\n",
      "19\t42278,\t\t69.72804313904126\n"
     ]
    }
   ],
   "source": [
    "user_id = rating.user_id.sample().iloc[0]\n",
    "similar_user_ids = get_similar_users_by_userid(20, user_id)"
   ]
  },
  {
   "cell_type": "markdown",
   "id": "57326f33",
   "metadata": {},
   "source": [
    "Retrieve similar users by passing a **dictionary** of <anime_name, rating> pair, faking User rating per anime"
   ]
  },
  {
   "cell_type": "code",
   "execution_count": 39,
   "id": "5493503d",
   "metadata": {},
   "outputs": [],
   "source": [
    "def get_similar_users_by_ratings(num_neighbors, anime_ratings: dict):\n",
    "    global seen_anime_ids\n",
    "    seen_anime_ids = list(anime_ratings.keys())\n",
    "    user_anime_pivot.loc[0] = anime_ratings # Inserting the anime ratings in the previous User-Anime pivot table as row with index label 0\n",
    "    user_anime_pivot.loc[0] = user_anime_pivot.loc[0].fillna(0) # Cleaning NaN values of the above inserted row\n",
    "    return get_similar_users_by_userid(num_neighbors, 0)"
   ]
  },
  {
   "cell_type": "markdown",
   "id": "136697c3",
   "metadata": {},
   "source": [
    "**Anime-Ratings Faker** : Random generation of anime ratings as per num_anime argument"
   ]
  },
  {
   "cell_type": "code",
   "execution_count": 103,
   "id": "d3e31fc0",
   "metadata": {},
   "outputs": [],
   "source": [
    "def generate_anime_ratings(num_anime):\n",
    "    anime_ratings = {}\n",
    "    anime_collection = anime['name'].tolist()\n",
    "    rating_collection = [i for i in range(1,11)]\n",
    "    for i in range(0, num_anime):   \n",
    "        anime_name = \"\"\n",
    "        while(True):            \n",
    "            anime_name = random.choice(anime_collection)\n",
    "            if(anime_name not in anime_ratings): break\n",
    "        anime_ratings[anime_name] = random.choice(rating_collection)\n",
    "    print(json.dumps(['Randomly Generated Anime-Ratings', anime_ratings], indent = 4),'\\n')\n",
    "    return anime_ratings"
   ]
  },
  {
   "cell_type": "code",
   "execution_count": 121,
   "id": "b48e7c98",
   "metadata": {},
   "outputs": [
    {
     "name": "stdout",
     "output_type": "stream",
     "text": [
      "[\n",
      "    \"Randomly Generated Anime-Ratings\",\n",
      "    {\n",
      "        \"Junjou Romantica Special\": 9,\n",
      "        \"Gangsta.\": 6,\n",
      "        \"Taimanin Yukikaze\": 2,\n",
      "        \"Tora-chan to Hanayome\": 6,\n",
      "        \"Date A Live Movie: Mayuri Judgment\": 1,\n",
      "        \"Ishida to Asakura\": 2,\n",
      "        \"Mahou no Tenshi Creamy Mami: Perfect Memory\": 10,\n",
      "        \"Nanmu Ichibyousokusai\": 1,\n",
      "        \"Roba Chotto Suneta\": 8,\n",
      "        \"Amon: Devilman Mokushiroku\": 2,\n",
      "        \"Kamiusagi Rope Specials\": 2,\n",
      "        \"Jungle Taitei\": 5,\n",
      "        \"Shitcom\": 1,\n",
      "        \"Ranma \\u00bd: Akumu! Shunmin Kou\": 7,\n",
      "        \"Ketsuekigata-kun! 2\": 2,\n",
      "        \"Kattobase! Dreamers: Carp Tanjou Monogatari\": 6,\n",
      "        \"Salad Juu Yuushi Tomatoman\": 1,\n",
      "        \"Kashimashi: Girl Meets Girl\": 2,\n",
      "        \"Samurai Girl Real Bout High School\": 2,\n",
      "        \"Jinshin Yuugi\": 6,\n",
      "        \"Magi: The Labyrinth of Magic\": 1\n",
      "    }\n",
      "] \n",
      "\n",
      "Users similar to 0:\n",
      "\n",
      "SN.\tUser_ID\t\tDistance\n",
      "0\t46734,\t\t17.88854381999832\n",
      "1\t45008,\t\t18.303005217723125\n",
      "2\t39396,\t\t18.894443627691185\n",
      "3\t71653,\t\t18.894443627691185\n",
      "4\t57387,\t\t18.894443627691185\n",
      "5\t10952,\t\t18.894443627691185\n",
      "6\t16392,\t\t18.894443627691185\n",
      "7\t22641,\t\t18.894443627691185\n",
      "8\t3391,\t\t18.894443627691185\n",
      "9\t49987,\t\t18.894443627691185\n",
      "10\t73350,\t\t18.894443627691185\n",
      "11\t10977,\t\t18.894443627691185\n",
      "12\t34390,\t\t18.894443627691185\n",
      "13\t4359,\t\t18.894443627691185\n",
      "14\t33173,\t\t18.894443627691185\n",
      "15\t69713,\t\t18.894443627691185\n",
      "16\t29286,\t\t18.894443627691185\n",
      "17\t18308,\t\t18.894443627691185\n",
      "18\t46795,\t\t18.894443627691185\n",
      "19\t953,\t\t18.894443627691185\n"
     ]
    }
   ],
   "source": [
    "r = generate_anime_ratings(21)\n",
    "similar_user_ids = get_similar_users_by_ratings(20, r)"
   ]
  },
  {
   "cell_type": "markdown",
   "id": "359e1c5b",
   "metadata": {},
   "source": [
    "# Anime Recommendations Generation using Similar Users"
   ]
  },
  {
   "cell_type": "code",
   "execution_count": 122,
   "id": "a643da91",
   "metadata": {},
   "outputs": [
    {
     "name": "stderr",
     "output_type": "stream",
     "text": [
      "C:\\Users\\bisha\\anaconda3\\lib\\site-packages\\numpy\\lib\\arraysetops.py:583: FutureWarning: elementwise comparison failed; returning scalar instead, but in the future will perform elementwise comparison\n",
      "  mask |= (ar1 == a)\n"
     ]
    }
   ],
   "source": [
    "ratings_per_similar_user = rating[rating.user_id.isin(similar_user_ids) & ~rating.anime_id.isin(seen_anime_ids)] # Extract ratings of similar user from rating DF having unseen anime_id\n",
    "anime_rating_group = ratings_per_similar_user[['anime_id', 'rating']].groupby('anime_id', sort=False, as_index=False).mean() # Grouping anime_id and calculating average rating per anime from similar user's rating.\n",
    "anime_rating_group.sort_values(by='rating', ascending=False, inplace=True) # Sort the above DF by rating (feature) descendingly\n",
    "anime_recommendations = pd.merge(anime_rating_group['anime_id'], anime, on='anime_id')"
   ]
  },
  {
   "cell_type": "code",
   "execution_count": 123,
   "id": "6ed6d3d0",
   "metadata": {},
   "outputs": [],
   "source": [
    "def get_anime_recommendations(num_anime): # Generates a fixed number of anime recommendations as per num_anime argument\n",
    "    return anime_recommendations[0:num_anime]"
   ]
  },
  {
   "cell_type": "code",
   "execution_count": 124,
   "id": "e684971c",
   "metadata": {},
   "outputs": [
    {
     "data": {
      "text/html": [
       "<div>\n",
       "<style scoped>\n",
       "    .dataframe tbody tr th:only-of-type {\n",
       "        vertical-align: middle;\n",
       "    }\n",
       "\n",
       "    .dataframe tbody tr th {\n",
       "        vertical-align: top;\n",
       "    }\n",
       "\n",
       "    .dataframe thead th {\n",
       "        text-align: right;\n",
       "    }\n",
       "</style>\n",
       "<table border=\"1\" class=\"dataframe\">\n",
       "  <thead>\n",
       "    <tr style=\"text-align: right;\">\n",
       "      <th></th>\n",
       "      <th>anime_id</th>\n",
       "      <th>name</th>\n",
       "      <th>genre</th>\n",
       "      <th>type</th>\n",
       "      <th>episodes</th>\n",
       "      <th>rating</th>\n",
       "      <th>members</th>\n",
       "    </tr>\n",
       "  </thead>\n",
       "  <tbody>\n",
       "    <tr>\n",
       "      <th>0</th>\n",
       "      <td>1572</td>\n",
       "      <td>Jungle Taitei</td>\n",
       "      <td>Adventure, Kids, Shounen</td>\n",
       "      <td>TV</td>\n",
       "      <td>52</td>\n",
       "      <td>6.69</td>\n",
       "      <td>3067</td>\n",
       "    </tr>\n",
       "    <tr>\n",
       "      <th>1</th>\n",
       "      <td>25183</td>\n",
       "      <td>Gangsta.</td>\n",
       "      <td>Action, Drama, Seinen</td>\n",
       "      <td>TV</td>\n",
       "      <td>12</td>\n",
       "      <td>7.50</td>\n",
       "      <td>210752</td>\n",
       "    </tr>\n",
       "    <tr>\n",
       "      <th>2</th>\n",
       "      <td>19315</td>\n",
       "      <td>Pupa</td>\n",
       "      <td>Fantasy, Horror, Psychological</td>\n",
       "      <td>TV</td>\n",
       "      <td>12</td>\n",
       "      <td>3.82</td>\n",
       "      <td>83652</td>\n",
       "    </tr>\n",
       "    <tr>\n",
       "      <th>3</th>\n",
       "      <td>25567</td>\n",
       "      <td>DRAMAtical Murder OVA: Data_xx_Transitory</td>\n",
       "      <td>Drama, Psychological, Sci-Fi, Shounen Ai</td>\n",
       "      <td>Special</td>\n",
       "      <td>1</td>\n",
       "      <td>6.23</td>\n",
       "      <td>12469</td>\n",
       "    </tr>\n",
       "    <tr>\n",
       "      <th>4</th>\n",
       "      <td>27899</td>\n",
       "      <td>Tokyo Ghoul √A</td>\n",
       "      <td>Action, Drama, Horror, Mystery, Psychological,...</td>\n",
       "      <td>TV</td>\n",
       "      <td>12</td>\n",
       "      <td>7.52</td>\n",
       "      <td>408357</td>\n",
       "    </tr>\n",
       "    <tr>\n",
       "      <th>5</th>\n",
       "      <td>133</td>\n",
       "      <td>Green Green</td>\n",
       "      <td>Comedy, Ecchi, Romance, School, Slice of Life</td>\n",
       "      <td>TV</td>\n",
       "      <td>12</td>\n",
       "      <td>6.44</td>\n",
       "      <td>80562</td>\n",
       "    </tr>\n",
       "    <tr>\n",
       "      <th>6</th>\n",
       "      <td>2476</td>\n",
       "      <td>School Days</td>\n",
       "      <td>Drama, Harem, Romance, School</td>\n",
       "      <td>TV</td>\n",
       "      <td>12</td>\n",
       "      <td>6.17</td>\n",
       "      <td>279183</td>\n",
       "    </tr>\n",
       "    <tr>\n",
       "      <th>7</th>\n",
       "      <td>226</td>\n",
       "      <td>Elfen Lied</td>\n",
       "      <td>Action, Drama, Horror, Psychological, Romance,...</td>\n",
       "      <td>TV</td>\n",
       "      <td>13</td>\n",
       "      <td>7.85</td>\n",
       "      <td>623511</td>\n",
       "    </tr>\n",
       "    <tr>\n",
       "      <th>8</th>\n",
       "      <td>3287</td>\n",
       "      <td>Tenkuu Danzai Skelter+Heaven</td>\n",
       "      <td>Mecha, Sci-Fi</td>\n",
       "      <td>OVA</td>\n",
       "      <td>1</td>\n",
       "      <td>2.00</td>\n",
       "      <td>7680</td>\n",
       "    </tr>\n",
       "    <tr>\n",
       "      <th>9</th>\n",
       "      <td>413</td>\n",
       "      <td>Hametsu no Mars</td>\n",
       "      <td>Horror, Sci-Fi</td>\n",
       "      <td>OVA</td>\n",
       "      <td>1</td>\n",
       "      <td>2.37</td>\n",
       "      <td>27557</td>\n",
       "    </tr>\n",
       "    <tr>\n",
       "      <th>10</th>\n",
       "      <td>11843</td>\n",
       "      <td>Danshi Koukousei no Nichijou</td>\n",
       "      <td>Comedy, School, Shounen, Slice of Life</td>\n",
       "      <td>TV</td>\n",
       "      <td>12</td>\n",
       "      <td>8.35</td>\n",
       "      <td>258914</td>\n",
       "    </tr>\n",
       "    <tr>\n",
       "      <th>11</th>\n",
       "      <td>209</td>\n",
       "      <td>R.O.D the TV</td>\n",
       "      <td>Action, Adventure, Comedy, Drama, Sci-Fi, Supe...</td>\n",
       "      <td>TV</td>\n",
       "      <td>26</td>\n",
       "      <td>7.64</td>\n",
       "      <td>47053</td>\n",
       "    </tr>\n",
       "    <tr>\n",
       "      <th>12</th>\n",
       "      <td>21511</td>\n",
       "      <td>Kantai Collection: KanColle</td>\n",
       "      <td>Action, Military, School, Sci-Fi, Slice of Life</td>\n",
       "      <td>TV</td>\n",
       "      <td>12</td>\n",
       "      <td>7.04</td>\n",
       "      <td>100999</td>\n",
       "    </tr>\n",
       "    <tr>\n",
       "      <th>13</th>\n",
       "      <td>155</td>\n",
       "      <td>X/1999</td>\n",
       "      <td>Action, Drama, Fantasy, Horror, Magic, Sci-Fi,...</td>\n",
       "      <td>Movie</td>\n",
       "      <td>1</td>\n",
       "      <td>6.68</td>\n",
       "      <td>23038</td>\n",
       "    </tr>\n",
       "    <tr>\n",
       "      <th>14</th>\n",
       "      <td>28927</td>\n",
       "      <td>Owari no Seraph: Nagoya Kessen-hen</td>\n",
       "      <td>Action, Drama, Shounen, Supernatural, Vampire</td>\n",
       "      <td>TV</td>\n",
       "      <td>12</td>\n",
       "      <td>7.84</td>\n",
       "      <td>190058</td>\n",
       "    </tr>\n",
       "    <tr>\n",
       "      <th>15</th>\n",
       "      <td>788</td>\n",
       "      <td>Eiken: Eikenbu yori Ai wo Komete</td>\n",
       "      <td>Comedy, Ecchi, Harem, School</td>\n",
       "      <td>OVA</td>\n",
       "      <td>2</td>\n",
       "      <td>4.65</td>\n",
       "      <td>15764</td>\n",
       "    </tr>\n",
       "  </tbody>\n",
       "</table>\n",
       "</div>"
      ],
      "text/plain": [
       "    anime_id                                       name  \\\n",
       "0       1572                              Jungle Taitei   \n",
       "1      25183                                   Gangsta.   \n",
       "2      19315                                       Pupa   \n",
       "3      25567  DRAMAtical Murder OVA: Data_xx_Transitory   \n",
       "4      27899                             Tokyo Ghoul √A   \n",
       "5        133                                Green Green   \n",
       "6       2476                                School Days   \n",
       "7        226                                 Elfen Lied   \n",
       "8       3287               Tenkuu Danzai Skelter+Heaven   \n",
       "9        413                            Hametsu no Mars   \n",
       "10     11843               Danshi Koukousei no Nichijou   \n",
       "11       209                               R.O.D the TV   \n",
       "12     21511                Kantai Collection: KanColle   \n",
       "13       155                                     X/1999   \n",
       "14     28927         Owari no Seraph: Nagoya Kessen-hen   \n",
       "15       788           Eiken: Eikenbu yori Ai wo Komete   \n",
       "\n",
       "                                                genre     type episodes  \\\n",
       "0                            Adventure, Kids, Shounen       TV       52   \n",
       "1                               Action, Drama, Seinen       TV       12   \n",
       "2                      Fantasy, Horror, Psychological       TV       12   \n",
       "3            Drama, Psychological, Sci-Fi, Shounen Ai  Special        1   \n",
       "4   Action, Drama, Horror, Mystery, Psychological,...       TV       12   \n",
       "5       Comedy, Ecchi, Romance, School, Slice of Life       TV       12   \n",
       "6                       Drama, Harem, Romance, School       TV       12   \n",
       "7   Action, Drama, Horror, Psychological, Romance,...       TV       13   \n",
       "8                                       Mecha, Sci-Fi      OVA        1   \n",
       "9                                      Horror, Sci-Fi      OVA        1   \n",
       "10             Comedy, School, Shounen, Slice of Life       TV       12   \n",
       "11  Action, Adventure, Comedy, Drama, Sci-Fi, Supe...       TV       26   \n",
       "12    Action, Military, School, Sci-Fi, Slice of Life       TV       12   \n",
       "13  Action, Drama, Fantasy, Horror, Magic, Sci-Fi,...    Movie        1   \n",
       "14      Action, Drama, Shounen, Supernatural, Vampire       TV       12   \n",
       "15                       Comedy, Ecchi, Harem, School      OVA        2   \n",
       "\n",
       "    rating  members  \n",
       "0     6.69     3067  \n",
       "1     7.50   210752  \n",
       "2     3.82    83652  \n",
       "3     6.23    12469  \n",
       "4     7.52   408357  \n",
       "5     6.44    80562  \n",
       "6     6.17   279183  \n",
       "7     7.85   623511  \n",
       "8     2.00     7680  \n",
       "9     2.37    27557  \n",
       "10    8.35   258914  \n",
       "11    7.64    47053  \n",
       "12    7.04   100999  \n",
       "13    6.68    23038  \n",
       "14    7.84   190058  \n",
       "15    4.65    15764  "
      ]
     },
     "execution_count": 124,
     "metadata": {},
     "output_type": "execute_result"
    }
   ],
   "source": [
    "get_anime_recommendations(20)"
   ]
  },
  {
   "cell_type": "code",
   "execution_count": null,
   "id": "b8a782ba",
   "metadata": {},
   "outputs": [],
   "source": []
  }
 ],
 "metadata": {
  "kernelspec": {
   "display_name": "Python 3 (ipykernel)",
   "language": "python",
   "name": "python3"
  },
  "language_info": {
   "codemirror_mode": {
    "name": "ipython",
    "version": 3
   },
   "file_extension": ".py",
   "mimetype": "text/x-python",
   "name": "python",
   "nbconvert_exporter": "python",
   "pygments_lexer": "ipython3",
   "version": "3.9.7"
  }
 },
 "nbformat": 4,
 "nbformat_minor": 5
}
